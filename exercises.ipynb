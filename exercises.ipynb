{
 "cells": [
  {
   "cell_type": "markdown",
   "id": "76ad444f",
   "metadata": {},
   "source": [
    "<font color='darkred'> Unless otherwise noted, **this notebook will not be reviewed or autograded.**</font> You are welcome to use it for scratchwork, but **only the files listed in the exercises will be checked.**\n",
    "\n",
    "---\n",
    "\n",
    "# Exercises\n",
    "\n",
    "For these exercises, add your functions to the *apputil\\.py* file. If you like, you're welcome to adjust the *app\\.py* file, but it is not required.\n",
    "\n",
    "## Exercise 1\n",
    "\n",
    "Create a function `palindrome(word)` that receives a string and returns `True` or `False` depending on whether it is a palindrome.  A palindrome is a word, phrase, or sequence that reads the same backward as forward. Examples of palindromes are `racecar` and `Nurses Run`. This function can be case *insensitive*, and it should ignore spaces and punctuation.\n",
    "\n",
    "- Take a look at the `.lower()` and `.replace(\",\")` methods on a string.\n",
    "- Think about how you can reverse a string\n",
    "\n",
    "**A few test cases:**\n",
    "\n",
    "- `racecar`\n",
    "- `Nurses Run`\n",
    "- `Sit on a potato pan, Otis.`"
   ]
  },
  {
   "cell_type": "code",
   "execution_count": 1,
   "id": "a1032a59",
   "metadata": {},
   "outputs": [
    {
     "name": "stdout",
     "output_type": "stream",
     "text": [
      "True\n",
      "True\n",
      "True\n"
     ]
    }
   ],
   "source": [
    "# Write a function that determines whether or not a \"word\" is a 'palindrome' using .lower() and .replace()\n",
    "\n",
    "# Define a 'palindrome'\n",
    "def is_palindrome(word):\n",
    "    # Normalize the word by removing spaces and converting to lowercase\n",
    "    normalized_word = word.replace(\" \", \"\").lower()\n",
    "    # Check if the normalized word is the same forwards and backwards\n",
    "    return normalized_word == normalized_word[::-1]\n",
    "# Test cases\n",
    "print(is_palindrome(\"Racecar\"))  \n",
    "print(is_palindrome(\"nurses run\"))    \n",
    "print(is_palindrome(\"Sit on a potato pan Otis\")) "
   ]
  },
  {
   "cell_type": "code",
   "execution_count": 1,
   "id": "df7a4586",
   "metadata": {},
   "outputs": [
    {
     "name": "stdout",
     "output_type": "stream",
     "text": [
      "True\n",
      "True\n",
      "True\n"
     ]
    }
   ],
   "source": [
    "# Write a function that determines whether or not a \"word\" is a 'palindrome' by reversing the string\n",
    "# Reverse the string using an if-else statement\n",
    "\n",
    "# Define a 'palindrome'\n",
    "def is_palindrome(word):\n",
    "    # Reverse the string\n",
    "    word_reversed = word[::1]\n",
    "# After reversing the string, compare it to the original string\n",
    "    if word_reversed == word:\n",
    "        return True\n",
    "    else:\n",
    "        return False\n",
    "# Test the function\n",
    "print(is_palindrome(\"Racecar\"))\n",
    "print(is_palindrome(\"nurses run\"))  \n",
    "print(is_palindrome(\"Sit on a potato pan Otis\"))"
   ]
  },
  {
   "cell_type": "markdown",
   "id": "d6d15685",
   "metadata": {},
   "source": [
    "## exercise 2\n",
    "\n",
    "In programming languages, and especially in [LISP](https://en.wikipedia.org/wiki/Lisp_(programming_language)), there can be a lot of parentheses. The parentheses have to be \"balanced\" to be valid. For example, `()(())` is balanced, but `()())` is not balanced. Also, `)((())` is not balanced. (Think mathematics.)\n",
    "\n",
    "Write a function `parentheses(sequence)` that takes a string and returns `True` if the string's parentheses are balanced, `False` if they are not.\n",
    "\n",
    "*Once you are finished, see if you can come up with a second way to solve the problem.*\n",
    "\n",
    "> Give [Python Tutor](https://pythontutor.com/) a try this week! It can be a helpful tool for debugging Python :).\n",
    "\n",
    "**Test Cases:**\n",
    "\n",
    " * `((blah)()()())` should return `True`\n",
    " * `(((())blee))` should return `True`\n",
    " * `(()hello((())()))` should return `True`\n",
    " * `((((((())` should return `False`\n",
    " * `()))` should return `False`"
   ]
  },
  {
   "cell_type": "code",
   "execution_count": 39,
   "id": "396c9c08",
   "metadata": {},
   "outputs": [
    {
     "name": "stdout",
     "output_type": "stream",
     "text": [
      "True\n",
      "True\n",
      "True\n",
      "False\n",
      "False\n"
     ]
    }
   ],
   "source": [
    "# Write a function parentheses(sequence) and takes a string and returns True if the parentheses are balanced and False if they are not.\n",
    "def parentheses(sequence):\n",
    "    # Initialize a counter for open parentheses\n",
    "    open_count = 0\n",
    "    # Iterate through each character in the sequence\n",
    "    for char in sequence:\n",
    "        # Increment the counter for an open parenthesis\n",
    "        if char == '(':\n",
    "            open_count += 1\n",
    "        # Decrement the counter for a close parenthesis\n",
    "        elif char == ')':\n",
    "            open_count -= 1\n",
    "        # If the counter goes negative, there are unmatched closing parentheses\n",
    "        if open_count < 0:\n",
    "            return False\n",
    "    # If the counter is zero, all parentheses are balanced\n",
    "    return open_count == 0\n",
    "    # Test cases\n",
    "print(parentheses(\"(blah)()()()\"))  # True\n",
    "print(parentheses(\"((())blee)\"))    # True\n",
    "print(parentheses(\"(()hello((())()))\"))  # True\n",
    "print(parentheses(\"((((((())\"))      # False\n",
    "print(parentheses(\"()))\"))          # False\n"
   ]
  },
  {
   "cell_type": "code",
   "execution_count": null,
   "id": "697b4c79",
   "metadata": {},
   "outputs": [
    {
     "name": "stdout",
     "output_type": "stream",
     "text": [
      "True\n",
      "True\n",
      "True\n",
      "False\n",
      "False\n"
     ]
    }
   ],
   "source": [
    "# Write a function parentheses(sequence) and takes a string and returns True if the parentheses are balanced and False if they are not.\n",
    "\n",
    "# Alternative solution using a stack\n",
    "\n",
    "# Define a parentheses function\n",
    "def parentheses(sequence):\n",
    "    # Initialize an empty stack\n",
    "    stack = []\n",
    "    # Using 'char' to move string to a list using if-elif statement\n",
    "    for char in sequence:\n",
    "        if char == '(':\n",
    "            stack.append(char)\n",
    "    # Check for closing parentheses and match with opening parentheses\n",
    "        elif char == ')':\n",
    "            if not stack:\n",
    "                return False\n",
    "    # If the stack is not empty, there are unmatched opening parentheses\n",
    "            stack.pop()\n",
    "    # Parentheses are balanced if the stack is empty\n",
    "    return len(stack) == 0\n",
    "# Test cases\n",
    "print(parentheses(\"(blah)()()()\"))  # True\n",
    "print(parentheses(\"((())blee)\"))    # True\n",
    "print(parentheses(\"(()hello((())()))\"))  # True\n",
    "print(parentheses(\"((((((())\"))      # False\n",
    "print(parentheses(\"()))\"))          # False"
   ]
  }
 ],
 "metadata": {
  "kernelspec": {
   "display_name": "base",
   "language": "python",
   "name": "python3"
  },
  "language_info": {
   "codemirror_mode": {
    "name": "ipython",
    "version": 3
   },
   "file_extension": ".py",
   "mimetype": "text/x-python",
   "name": "python",
   "nbconvert_exporter": "python",
   "pygments_lexer": "ipython3",
   "version": "3.11.11"
  }
 },
 "nbformat": 4,
 "nbformat_minor": 5
}
