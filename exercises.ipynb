{
 "cells": [
  {
   "cell_type": "markdown",
   "id": "76ad444f",
   "metadata": {},
   "source": [
    "<font color='darkred'> Unless otherwise noted, **this notebook will not be reviewed or autograded.**</font> You are welcome to use it for scratchwork, but **only the files listed in the exercises will be checked.**\n",
    "\n",
    "---\n",
    "\n",
    "# Exercises\n",
    "\n",
    "For these exercises, add your functions to the *apputil\\.py* file. If you like, you're welcome to adjust the *app\\.py* file, but it is not required.\n",
    "\n",
    "## Exercise 1\n",
    "\n",
    "Create a function `palindrome(word)` that receives a string and returns `True` or `False` depending on whether it is a palindrome.  A palindrome is a word, phrase, or sequence that reads the same backward as forward. Examples of palindromes are `racecar` and `Nurses Run`. This function can be case *insensitive*, and it should ignore spaces and punctuation.\n",
    "\n",
    "- Take a look at the `.lower()` and `.replace(\",\")` methods on a string.\n",
    "- Think about how you can reverse a string\n",
    "\n",
    "**A few test cases:**\n",
    "\n",
    "- `racecar`\n",
    "- `Nurses Run`\n",
    "- `Sit on a potato pan, Otis.`"
   ]
  },
  {
   "cell_type": "code",
   "execution_count": null,
   "id": "4d0fd3fe",
   "metadata": {},
   "outputs": [
    {
     "name": "stdout",
     "output_type": "stream",
     "text": [
      "\"maam\" is a Palindrome\n"
     ]
    },
    {
     "data": {
      "text/plain": [
       "True"
      ]
     },
     "execution_count": 25,
     "metadata": {},
     "output_type": "execute_result"
    }
   ],
   "source": [
    "'''\n",
    "NOTE : \n",
    "- This code takes User Input.\n",
    "- Since we are using Jupyter Notebook, in Visual Code , the user input is taken at the top of the notebook.\n",
    "'''\n",
    "#function to check if a word/sentence is palindrome or not\n",
    "def palindrome(user_input):\n",
    "\n",
    "    # Clean the input by removing spaces and converting to lowercase\n",
    "    '''\n",
    "    Converting the input to lowercase to make the palindrome check case-insensitive and removing spaces to ignore them in the palindrome check.\n",
    "    ***\n",
    "    Note for self: \n",
    "    - replace() is a method which we are accessing for object of type string. Here were are replacing spaces and punctuations  with empty string.\n",
    "    - lower() is also a method for string object that converts uppercase characters in the string to lowercase.\n",
    "    ***\n",
    "    '''\n",
    "    cleaned_input = user_input.replace(\" \", \"\").replace(\",\", \"\").replace(\".\", \"\").replace(\"!\", \"\").replace(\";\", \"\").lower()\n",
    "\n",
    "    #check if the string is equal to its reverse\n",
    "    '''\n",
    "     Using the concept of slicing here to reverse the string.\n",
    "     ***\n",
    "     Note for self:\n",
    "     - Slicing does not modify the original string, it creates a new string that is a subset of the original string.\n",
    "     - stringvar[start:stop:step] is the syntax for slicing.\n",
    "     - :: means to take whole string i.e. 0 to length of string. -1 means to step backwards through the string, effectively reversing it.\n",
    "     ***\n",
    "    '''\n",
    "    if cleaned_input == cleaned_input[::-1]:\n",
    "        print(f'\"{user_input}\" is a Palindrome')\n",
    "        return True\n",
    "    else:\n",
    "        print(f'\"{user_input}\" is not a Palindrome')\n",
    "        return False\n",
    "\n",
    "# Take input from the user\n",
    "'''\n",
    "***\n",
    "Note for self:\n",
    "- input() function reads the input as a string. If we give input as number, it will be considered as string.\n",
    "***\n",
    "'''\n",
    "user_input = input(\"Enter a Word or Sentence: \")\n",
    "\n",
    "# Check if the cleaned input is a palindrome\n",
    "palindrome(user_input)"
   ]
  },
  {
   "cell_type": "code",
   "execution_count": 33,
   "id": "f3157cbe",
   "metadata": {},
   "outputs": [
    {
     "name": "stdout",
     "output_type": "stream",
     "text": [
      "True : \"racecar\" is a Palindrome\n"
     ]
    }
   ],
   "source": [
    "# Better approach to check if string is palindrome or not\n",
    "\n",
    "## We are importing string module\n",
    "import string   \n",
    "\n",
    "# Function to transform the text by removing punctuation, space and converting to lowercase.\n",
    "def clean_text(text):\n",
    "    # Remove all punctuation\n",
    "    '''\n",
    "    Note for self:\n",
    "    - string.punctuation provides a string containing all common punctuation characters !\"#$%&'()*+,-./:;<=>?@[\\]^_`{|}~\n",
    "    - str.maketrans('', '', string.punctuation) creates a translation table that maps each punctuation character to None, effectively removing them.\n",
    "    - translate() method of string object takes a translation table as an argument and returns a new string.\n",
    "    '''\n",
    "    cleaned = text.translate(str.maketrans('', '', string.punctuation))\n",
    "    return cleaned.replace(\" \", \"\").lower()\n",
    "\n",
    "def is_palindrome(text):\n",
    "    cleaned = clean_text(text)\n",
    "    return cleaned == cleaned[::-1]\n",
    "\n",
    "# Take input from the user\n",
    "user_input = input(\"Enter a Word or Sentence: \")\n",
    "\n",
    "# Check if the cleaned input is a palindrome\n",
    "result = is_palindrome(user_input)\n",
    "if result:\n",
    "    print(f'{result} : \"{user_input}\" is a Palindrome')\n",
    "else:\n",
    "    print(f'{result} : \"{user_input}\" is not a Palindrome')"
   ]
  },
  {
   "cell_type": "markdown",
   "id": "d6d15685",
   "metadata": {},
   "source": [
    "## exercise 2\n",
    "\n",
    "In programming languages, and especially in [LISP](https://en.wikipedia.org/wiki/Lisp_(programming_language)), there can be a lot of parentheses. The parentheses have to be \"balanced\" to be valid. For example, `()(())` is balanced, but `()())` is not balanced. Also, `)((())` is not balanced. (Think mathematics.)\n",
    "\n",
    "Write a function `parentheses(sequence)` that takes a string and returns `True` if the string's parentheses are balanced, `False` if they are not.\n",
    "\n",
    "*Once you are finished, see if you can come up with a second way to solve the problem.*\n",
    "\n",
    "> Give [Python Tutor](https://pythontutor.com/) a try this week! It can be a helpful tool for debugging Python :).\n",
    "\n",
    "**Test Cases:**\n",
    "\n",
    " * `((blah)()()())` should return `True`\n",
    " * `(((())blee))` should return `True`\n",
    " * `(()hello((())()))` should return `True`\n",
    " * `((((((())` should return `False`\n",
    " * `()))` should return `False`"
   ]
  },
  {
   "cell_type": "code",
   "execution_count": 26,
   "id": "396c9c08",
   "metadata": {},
   "outputs": [
    {
     "name": "stdout",
     "output_type": "stream",
     "text": [
      "Expression contains invalid characters. Only parentheses '()' are allowed or () are missing.\n"
     ]
    }
   ],
   "source": [
    "# Code to check if parentheses in an expression are balanced\n",
    "'''\n",
    "***\n",
    "Note for self:\n",
    "- -> bool indicates that the function is expected to return a boolean value (True or False).\n",
    "***\n",
    "'''\n",
    "def parentheses(expression) -> bool:\n",
    "    # Initialize a counter\n",
    "    balance=0\n",
    "    for char in expression:\n",
    "        if char == '(':\n",
    "            balance += 1\n",
    "        elif char == ')':\n",
    "            balance -= 1\n",
    "        # If balance goes negative, there are unmatched closing parentheses\n",
    "        if balance < 0:\n",
    "            return False    \n",
    "    # If balance is zero, parentheses are balanced\n",
    "    return balance == 0         \n",
    "\n",
    "# Take input from the user\n",
    "expression = input(\"Enter an Expression with Parentheses: \")\n",
    "\n",
    "# Validate input to ensure it only contains parentheses '()'\n",
    "if \"{\" in expression or \"}\" in expression or \"[\" in expression or \"]\" in expression or \"<\" in expression or \">\" in expression or (\"(\" not in expression and \")\" not in expression):\n",
    "    print(\"Expression contains invalid characters. Only parentheses '()' are allowed or () are missing.\")\n",
    "else:\n",
    "    # Check if the parentheses are balanced\n",
    "    result=parentheses(expression)\n",
    "    if result:\n",
    "        print(f'{result} : parentheses in \"{expression}\" are balanced.')\n",
    "    else:\n",
    "        print(f'{result} : parentheses in \"{expression}\" are not balanced.')"
   ]
  },
  {
   "cell_type": "code",
   "execution_count": null,
   "id": "6dee7d0f",
   "metadata": {},
   "outputs": [
    {
     "name": "stdout",
     "output_type": "stream",
     "text": [
      "\"(((())blee))\" is Balanced\n",
      "True : parentheses in \"(((())blee))\" are balanced.\n"
     ]
    }
   ],
   "source": [
    "# Better approach to check for balanced parentheses using stack data structure enables use of multiple types of parentheses\n",
    "def parentheses_balanced(expression):\n",
    "    # Initialize an empty stack\n",
    "    '''\n",
    "    ***\n",
    "    Note for self:\n",
    "    - Stack is Last in First Out data structure.\n",
    "    ***\n",
    "    '''\n",
    "    stack = []\n",
    "    \n",
    "    # Dictionary to hold matching pairs of parentheses - K-V pairs\n",
    "    matching_parentheses = {')': '(', '}': '{', ']': '[', '>': '<'}\n",
    "    \n",
    "    # Iterate through each character in the expression\n",
    "    for char in expression:\n",
    "        # If it's an opening parenthesis, push it onto the stack\n",
    "        '''\n",
    "        ***\n",
    "        Note for self:\n",
    "        - values() method returns a view object that displays a list of all the values in the dictionary.\n",
    "        - keys() method returns a view object that displays a list of all the keys in the dictionary.\n",
    "        - append() method adds an item to the end of the list.\n",
    "        - pop() method removes and returns the last item from the list.\n",
    "        ***\n",
    "        '''\n",
    "        if char in matching_parentheses.values():\n",
    "            stack.append(char)\n",
    "        # If it's a closing parenthesis, check for a match\n",
    "        elif char in matching_parentheses.keys():\n",
    "            '''\n",
    "            ***\n",
    "            Note for self:\n",
    "            - not stack checks if the stack is empty.\n",
    "            - stack[-1] accesses the last item in the list without removing it.\n",
    "            - matching_parentheses[char(key)] gets the corresponding opening parenthesis for the closing one.\n",
    "            ***'''\n",
    "            if not stack or stack[-1] != matching_parentheses[char]:\n",
    "                print(f'\"{expression}\" is not Balanced')\n",
    "                return False\n",
    "            # removes top element from stack.\n",
    "            stack.pop()\n",
    "    \n",
    "    # If the stack is empty, all parentheses were balanced\n",
    "    if not stack:\n",
    "        return True\n",
    "    else:\n",
    "        return False\n",
    "    \n",
    "# Take input from the user\n",
    "expression = input(\"Enter an Expression with Parentheses : \")\n",
    "\n",
    "result=parentheses_balanced(expression)\n",
    "if result:\n",
    "    print(f'{result} : parentheses in \"{expression}\" are balanced.')\n",
    "else:\n",
    "    print(f'{result} : parentheses in \"{expression}\" are not balanced.')"
   ]
  }
 ],
 "metadata": {
  "kernelspec": {
   "display_name": "base",
   "language": "python",
   "name": "python3"
  },
  "language_info": {
   "codemirror_mode": {
    "name": "ipython",
    "version": 3
   },
   "file_extension": ".py",
   "mimetype": "text/x-python",
   "name": "python",
   "nbconvert_exporter": "python",
   "pygments_lexer": "ipython3",
   "version": "3.11.11"
  }
 },
 "nbformat": 4,
 "nbformat_minor": 5
}
