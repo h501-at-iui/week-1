{
 "cells": [
  {
   "cell_type": "markdown",
   "id": "76ad444f",
   "metadata": {},
   "source": [
    "<font color='darkred'> Unless otherwise noted, **this notebook will not be reviewed or autograded.**</font> You are welcome to use it for scratchwork, but **only the files listed in the exercises will be checked.**\n",
    "\n",
    "---\n",
    "\n",
    "# Exercises\n",
    "\n",
    "For these exercises, add your functions to the *apputil\\.py* file. If you like, you're welcome to adjust the *app\\.py* file, but it is not required.\n",
    "\n",
    "## Exercise 1\n",
    "\n",
    "Create a function `palindrome(word)` that receives a string and returns `True` or `False` depending on whether it is a palindrome.  A palindrome is a word, phrase, or sequence that reads the same backward as forward. Examples of palindromes are `racecar` and `Nurses Run`. This function can be case *insensitive*, and it should ignore spaces and punctuation.\n",
    "\n",
    "- Take a look at the `.lower()` and `.replace(\",\")` methods on a string.\n",
    "- Think about how you can reverse a string\n",
    "\n",
    "**A few test cases:**\n",
    "\n",
    "- `racecar`\n",
    "- `Nurses Run`\n",
    "- `Sit on a potato pan, Otis.`"
   ]
  },
  {
   "cell_type": "code",
   "execution_count": 16,
   "id": "4d0fd3fe",
   "metadata": {},
   "outputs": [
    {
     "name": "stdout",
     "output_type": "stream",
     "text": [
      "\"Nurses Run\" is a Palindrome\n"
     ]
    },
    {
     "data": {
      "text/plain": [
       "True"
      ]
     },
     "execution_count": 16,
     "metadata": {},
     "output_type": "execute_result"
    }
   ],
   "source": [
    "'''\n",
    "NOTE : \n",
    "- This code takes User Input.\n",
    "- Since we are using Jupyter Notebook, in Visual Code , the user input is taken at the top of the notebook.\n",
    "'''\n",
    "#function to check if a word/sentence is palindrome or not\n",
    "def is_palindrome(user_input):\n",
    "\n",
    "    # Clean the input by removing spaces and converting to lowercase\n",
    "    '''\n",
    "    Converting the input to lowercase to make the palindrome check case-insensitive and removing spaces to ignore them in the palindrome check.\n",
    "    ***\n",
    "    Note for self: \n",
    "    - replace() is a method which we are accessing for object of type string. Here were are replacing spaces and punctuations  with empty string.\n",
    "    - lower() is also a method for string object that converts uppercase characters in the string to lowercase.\n",
    "    ***\n",
    "    '''\n",
    "    cleaned_input = user_input.replace(\" \", \"\").replace(\",\", \"\").replace(\".\", \"\").replace(\"!\", \"\").replace(\";\", \"\").lower()\n",
    "\n",
    "    #check if the string is equal to its reverse\n",
    "    '''\n",
    "     Using the concept of slicing here to reverse the string.\n",
    "     ***\n",
    "     Note for self:\n",
    "     - Slicing does not modify the original string, it creates a new string that is a subset of the original string.\n",
    "     - stringvar[start:stop:step] is the syntax for slicing.\n",
    "     - :: means to take whole string i.e. 0 to length of string. -1 means to step backwards through the string, effectively reversing it.\n",
    "     ***\n",
    "    '''\n",
    "    if cleaned_input == cleaned_input[::-1]:\n",
    "        print(f'\"{user_input}\" is a Palindrome')\n",
    "        return True\n",
    "    else:\n",
    "        print(f'\"{user_input}\" is not a Palindrome')\n",
    "        return False\n",
    "\n",
    "# Take input from the user\n",
    "'''\n",
    "***\n",
    "Note for self:\n",
    "- input() function reads the input as a string. If we give input as number, it will be considered as string.\n",
    "'''\n",
    "user_input = input(\"Enter a Word or Sentence: \")\n",
    "\n",
    "# Check if the cleaned input is a palindrome\n",
    "is_palindrome(user_input)"
   ]
  },
  {
   "cell_type": "markdown",
   "id": "d6d15685",
   "metadata": {},
   "source": [
    "## exercise 2\n",
    "\n",
    "In programming languages, and especially in [LISP](https://en.wikipedia.org/wiki/Lisp_(programming_language)), there can be a lot of parentheses. The parentheses have to be \"balanced\" to be valid. For example, `()(())` is balanced, but `()())` is not balanced. Also, `)((())` is not balanced. (Think mathematics.)\n",
    "\n",
    "Write a function `parentheses(sequence)` that takes a string and returns `True` if the string's parentheses are balanced, `False` if they are not.\n",
    "\n",
    "*Once you are finished, see if you can come up with a second way to solve the problem.*\n",
    "\n",
    "> Give [Python Tutor](https://pythontutor.com/) a try this week! It can be a helpful tool for debugging Python :).\n",
    "\n",
    "**Test Cases:**\n",
    "\n",
    " * `((blah)()()())` should return `True`\n",
    " * `(((())blee))` should return `True`\n",
    " * `(()hello((())()))` should return `True`\n",
    " * `((((((())` should return `False`\n",
    " * `()))` should return `False`"
   ]
  },
  {
   "cell_type": "code",
   "execution_count": null,
   "id": "396c9c08",
   "metadata": {},
   "outputs": [],
   "source": [
    "# program to check if parantheses are balanced or not\n",
    "def are_parentheses_balanced(expression):"
   ]
  }
 ],
 "metadata": {
  "kernelspec": {
   "display_name": "base",
   "language": "python",
   "name": "python3"
  },
  "language_info": {
   "codemirror_mode": {
    "name": "ipython",
    "version": 3
   },
   "file_extension": ".py",
   "mimetype": "text/x-python",
   "name": "python",
   "nbconvert_exporter": "python",
   "pygments_lexer": "ipython3",
   "version": "3.11.11"
  }
 },
 "nbformat": 4,
 "nbformat_minor": 5
}
