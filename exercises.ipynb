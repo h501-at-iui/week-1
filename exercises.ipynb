{
 "cells": [
  {
   "cell_type": "markdown",
   "id": "76ad444f",
   "metadata": {},
   "source": [
    "<font color='darkred'> Unless otherwise noted, **this notebook will not be reviewed or autograded.**</font> You are welcome to use it for scratchwork, but **only the files listed in the exercises will be checked.**\n",
    "\n",
    "---\n",
    "\n",
    "# Exercises\n",
    "\n",
    "For these exercises, add your functions to the *apputil\\.py* file. If you like, you're welcome to adjust the *app\\.py* file, but it is not required.\n",
    "\n",
    "## Exercise 1\n",
    "\n",
    "Create a function `palindrome(word)` that receives a string and returns `True` or `False` depending on whether it is a palindrome.  A palindrome is a word, phrase, or sequence that reads the same backward as forward. Examples of palindromes are `racecar` and `Nurses Run`. This function can be case *insensitive*, and it should ignore spaces and punctuation.\n",
    "\n",
    "- Take a look at the `.lower()` and `.replace(\",\")` methods on a string.\n",
    "- Think about how you can reverse a string\n",
    "\n",
    "**A few test cases:**\n",
    "\n",
    "- `racecar`\n",
    "- `Nurses Run`\n",
    "- `Sit on a potato pan, Otis.`"
   ]
  },
  {
   "cell_type": "code",
   "execution_count": 1,
   "id": "4d0fd3fe",
   "metadata": {},
   "outputs": [
    {
     "name": "stdout",
     "output_type": "stream",
     "text": [
      "\"test\" is not a Palindrome\n"
     ]
    },
    {
     "data": {
      "text/plain": [
       "False"
      ]
     },
     "execution_count": 1,
     "metadata": {},
     "output_type": "execute_result"
    }
   ],
   "source": [
    "'''\n",
    "NOTE : \n",
    "- This code takes User Input.\n",
    "- Since we are using Jupyter Notebook, in Visual Code , the user input is taken at the top of the notebook.\n",
    "'''\n",
    "#function to check if a word/sentence is palindrome or not\n",
    "def is_palindrome(user_input):\n",
    "\n",
    "    # Clean the input by removing spaces and converting to lowercase\n",
    "    '''\n",
    "    Converting the input to lowercase to make the palindrome check case-insensitive and removing spaces to ignore them in the palindrome check.\n",
    "    ***\n",
    "    Note for self: \n",
    "    - replace() is a method which we are accessing for object of type string. Here were are replacing spaces and punctuations  with empty string.\n",
    "    - lower() is also a method for string object that converts uppercase characters in the string to lowercase.\n",
    "    ***\n",
    "    '''\n",
    "    cleaned_input = user_input.replace(\" \", \"\").replace(\",\", \"\").replace(\".\", \"\").replace(\"!\", \"\").replace(\";\", \"\").lower()\n",
    "\n",
    "    #check if the string is equal to its reverse\n",
    "    '''\n",
    "     Using the concept of slicing here to reverse the string.\n",
    "     ***\n",
    "     Note for self:\n",
    "     - Slicing does not modify the original string, it creates a new string that is a subset of the original string.\n",
    "     - stringvar[start:stop:step] is the syntax for slicing.\n",
    "     - :: means to take whole string i.e. 0 to length of string. -1 means to step backwards through the string, effectively reversing it.\n",
    "     ***\n",
    "    '''\n",
    "    if cleaned_input == cleaned_input[::-1]:\n",
    "        print(f'\"{user_input}\" is a Palindrome')\n",
    "        return True\n",
    "    else:\n",
    "        print(f'\"{user_input}\" is not a Palindrome')\n",
    "        return False\n",
    "\n",
    "# Take input from the user\n",
    "'''\n",
    "***\n",
    "Note for self:\n",
    "- input() function reads the input as a string. If we give input as number, it will be considered as string.\n",
    "***\n",
    "'''\n",
    "user_input = input(\"Enter a Word or Sentence: \")\n",
    "\n",
    "# Check if the cleaned input is a palindrome\n",
    "is_palindrome(user_input)"
   ]
  },
  {
   "cell_type": "markdown",
   "id": "d6d15685",
   "metadata": {},
   "source": [
    "## exercise 2\n",
    "\n",
    "In programming languages, and especially in [LISP](https://en.wikipedia.org/wiki/Lisp_(programming_language)), there can be a lot of parentheses. The parentheses have to be \"balanced\" to be valid. For example, `()(())` is balanced, but `()())` is not balanced. Also, `)((())` is not balanced. (Think mathematics.)\n",
    "\n",
    "Write a function `parentheses(sequence)` that takes a string and returns `True` if the string's parentheses are balanced, `False` if they are not.\n",
    "\n",
    "*Once you are finished, see if you can come up with a second way to solve the problem.*\n",
    "\n",
    "> Give [Python Tutor](https://pythontutor.com/) a try this week! It can be a helpful tool for debugging Python :).\n",
    "\n",
    "**Test Cases:**\n",
    "\n",
    " * `((blah)()()())` should return `True`\n",
    " * `(((())blee))` should return `True`\n",
    " * `(()hello((())()))` should return `True`\n",
    " * `((((((())` should return `False`\n",
    " * `()))` should return `False`"
   ]
  },
  {
   "cell_type": "code",
   "execution_count": 20,
   "id": "396c9c08",
   "metadata": {},
   "outputs": [
    {
     "name": "stdout",
     "output_type": "stream",
     "text": [
      "\"(((()\" is not balanced\n",
      "False\n"
     ]
    }
   ],
   "source": [
    "# Check if parentheses are balanced or not\n",
    "def are_parentheses_balanced(expression):\n",
    "    # Check if the expression starts with '(' and ends with ')'\n",
    "    if expression[0]  != '(' and expression[-1] != ')':\n",
    "        print(f'\"{expression}\" is not Balanced')\n",
    "        return False\n",
    "    else :\n",
    "        # Initialize counters for opening and closing parentheses\n",
    "        count_open = 0\n",
    "        count_close = 0\n",
    "        \n",
    "        '''\n",
    "        Iterate through the expression to count opening and closing parentheses from position 1 to len-1\n",
    "        because we have already checked the first and last character in first if condition.\n",
    "        ***\n",
    "        Note for self:\n",
    "        - we are iteration till len-1 because in python indexing starts from 0 and stop index is exclusive in slicing.\n",
    "        ***\n",
    "        '''\n",
    "        for char in expression[1:len(expression)-1]:\n",
    "            if char == '(':\n",
    "               count_open = count_open + 1\n",
    "            elif char == ')':\n",
    "                count_close = count_close + 1\n",
    "            else :\n",
    "                pass\n",
    "    # Final check to see if counts of opening and closing parenthesis are equal\n",
    "    if count_close == count_open :\n",
    "        print(f'\"{expression}\" is balanced')\n",
    "        return True\n",
    "    else :\n",
    "        print(f'\"{expression}\" is not balanced')\n",
    "        return False\n",
    "\n",
    "# Take input from the user\n",
    "expression = input(\"Enter an Expression with Parentheses: \")\n",
    "\n",
    "# Validate input to ensure it only contains parentheses '()'\n",
    "if \"{\" in expression or \"}\" in expression or \"[\" in expression or \"]\" in expression or \"<\" in expression or \">\" in expression or (\"(\" not in expression and \")\" not in expression):\n",
    "    print(\"Expression contains invalid characters. Only parentheses '()' are allowed or () are missing.\")\n",
    "else:\n",
    "    # Check if the parentheses are balanced\n",
    "    print(are_parentheses_balanced(expression))\n"
   ]
  }
 ],
 "metadata": {
  "kernelspec": {
   "display_name": "base",
   "language": "python",
   "name": "python3"
  },
  "language_info": {
   "codemirror_mode": {
    "name": "ipython",
    "version": 3
   },
   "file_extension": ".py",
   "mimetype": "text/x-python",
   "name": "python",
   "nbconvert_exporter": "python",
   "pygments_lexer": "ipython3",
   "version": "3.11.11"
  }
 },
 "nbformat": 4,
 "nbformat_minor": 5
}
